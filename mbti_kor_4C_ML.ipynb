{
  "nbformat": 4,
  "nbformat_minor": 0,
  "metadata": {
    "colab": {
      "name": "mbti_kor_4C_ML.ipynb",
      "provenance": [],
      "collapsed_sections": [],
      "toc_visible": true,
      "authorship_tag": "ABX9TyO4e6s+QzBEFypGJWRuJjSx",
      "include_colab_link": true
    },
    "kernelspec": {
      "name": "python3",
      "display_name": "Python 3"
    }
  },
  "cells": [
    {
      "cell_type": "markdown",
      "metadata": {
        "id": "view-in-github",
        "colab_type": "text"
      },
      "source": [
        "<a href=\"https://colab.research.google.com/github/skdldbwls/predict_mbti_korean/blob/master/mbti_kor_4C_ML.ipynb\" target=\"_parent\"><img src=\"https://colab.research.google.com/assets/colab-badge.svg\" alt=\"Open In Colab\"/></a>"
      ]
    },
    {
      "cell_type": "code",
      "metadata": {
        "id": "Qdv4n7PCKl9C"
      },
      "source": [
        "import pandas as pd\r\n",
        "import numpy as np"
      ],
      "execution_count": null,
      "outputs": []
    },
    {
      "cell_type": "code",
      "metadata": {
        "id": "6assSvZVK2wr"
      },
      "source": [
        "df1 = pd.read_csv(\"clean_post_5070.csv\")\r\n",
        "df2 = pd.read_csv(\"clean_post_7842.csv\")\r\n",
        "df3 = pd.read_csv(\"clean_post_16411.csv\")\r\n",
        "df4 = pd.read_csv(\"clean_post_18000.csv\")"
      ],
      "execution_count": null,
      "outputs": []
    },
    {
      "cell_type": "code",
      "metadata": {
        "colab": {
          "base_uri": "https://localhost:8080/"
        },
        "id": "CPdTWu5NLMHF",
        "outputId": "610c3a6e-32f3-4b3a-e817-91439f2510a8"
      },
      "source": [
        "print(len(df1), len(df2), len(df3), len(df4))"
      ],
      "execution_count": null,
      "outputs": [
        {
          "output_type": "stream",
          "text": [
            "5070 2772 8569 1589\n"
          ],
          "name": "stdout"
        }
      ]
    },
    {
      "cell_type": "code",
      "metadata": {
        "colab": {
          "base_uri": "https://localhost:8080/",
          "height": 435
        },
        "id": "VsysQUe_LP33",
        "outputId": "95738caa-9a37-497f-f209-0fcd8ee9d239"
      },
      "source": [
        "data = pd.concat([df1,df2,df3,df4], axis=0)\r\n",
        "data"
      ],
      "execution_count": null,
      "outputs": [
        {
          "output_type": "execute_result",
          "data": {
            "text/html": [
              "<div>\n",
              "<style scoped>\n",
              "    .dataframe tbody tr th:only-of-type {\n",
              "        vertical-align: middle;\n",
              "    }\n",
              "\n",
              "    .dataframe tbody tr th {\n",
              "        vertical-align: top;\n",
              "    }\n",
              "\n",
              "    .dataframe thead th {\n",
              "        text-align: right;\n",
              "    }\n",
              "</style>\n",
              "<table border=\"1\" class=\"dataframe\">\n",
              "  <thead>\n",
              "    <tr style=\"text-align: right;\">\n",
              "      <th></th>\n",
              "      <th>type</th>\n",
              "      <th>posts</th>\n",
              "    </tr>\n",
              "  </thead>\n",
              "  <tbody>\n",
              "    <tr>\n",
              "      <th>0</th>\n",
              "      <td>NaN</td>\n",
              "      <td>최근 카페 질의응답 게시판 지속 등업 요구하다 글 올라오다 있다 엠헬 가입인사 코너...</td>\n",
              "    </tr>\n",
              "    <tr>\n",
              "      <th>1</th>\n",
              "      <td>NaN</td>\n",
              "      <td>크 연타 주다 글 자신 마음 안 들다 늘 부족하다 것 같 절대 사랑하다 없 사람 글...</td>\n",
              "    </tr>\n",
              "    <tr>\n",
              "      <th>2</th>\n",
              "      <td>NaN</td>\n",
              "      <td>유고슬라비아 남 슬 라브 국가 세르비아 슬로베니아 크로아티아 보스니아 북마케도니아 ...</td>\n",
              "    </tr>\n",
              "    <tr>\n",
              "      <th>3</th>\n",
              "      <td>NaN</td>\n",
              "      <td>대 여자 키 크 나이 비하다 성숙하다 이미지 가지다 있다 잇 팁답다 차갑 도도 첫인...</td>\n",
              "    </tr>\n",
              "    <tr>\n",
              "      <th>4</th>\n",
              "      <td>NaN</td>\n",
              "      <td>요즘 끌리다 남자 있다 이다 거 같 인줄 알다 상황 따르다 행동 변경 잘 하 고백하...</td>\n",
              "    </tr>\n",
              "    <tr>\n",
              "      <th>...</th>\n",
              "      <td>...</td>\n",
              "      <td>...</td>\n",
              "    </tr>\n",
              "    <tr>\n",
              "      <th>1584</th>\n",
              "      <td>NaN</td>\n",
              "      <td>글 보다 유형분 조금 더 거절당하다 것 헤어지다 가능 등등 미리 마음 대비 하다 편...</td>\n",
              "    </tr>\n",
              "    <tr>\n",
              "      <th>1585</th>\n",
              "      <td>NaN</td>\n",
              "      <td>어떻 매번 검사하다 때 에프제 나오다 결국 에프 제라 것 인정하다 살다 있다 ㅋㅋ ...</td>\n",
              "    </tr>\n",
              "    <tr>\n",
              "      <th>1586</th>\n",
              "      <td>NaN</td>\n",
              "      <td>회사 그만두다 말 오늘 대표 꼭 하다 하다 왜 말 안 나오다 왜 죠 왜 그 만두다 ...</td>\n",
              "    </tr>\n",
              "    <tr>\n",
              "      <th>1587</th>\n",
              "      <td>NaN</td>\n",
              "      <td>것 도대체 그리고 검사하다 때 계속 나오다 하 거 능력자 분 알리다 주다</td>\n",
              "    </tr>\n",
              "    <tr>\n",
              "      <th>1588</th>\n",
              "      <td>NaN</td>\n",
              "      <td>이너프제 성향 하 않다 그래서 계획 잘 세우다 메모하다 습관 있다 기억력 안 좋 꼭...</td>\n",
              "    </tr>\n",
              "  </tbody>\n",
              "</table>\n",
              "<p>18000 rows × 2 columns</p>\n",
              "</div>"
            ],
            "text/plain": [
              "      type                                              posts\n",
              "0      NaN  최근 카페 질의응답 게시판 지속 등업 요구하다 글 올라오다 있다 엠헬 가입인사 코너...\n",
              "1      NaN  크 연타 주다 글 자신 마음 안 들다 늘 부족하다 것 같 절대 사랑하다 없 사람 글...\n",
              "2      NaN  유고슬라비아 남 슬 라브 국가 세르비아 슬로베니아 크로아티아 보스니아 북마케도니아 ...\n",
              "3      NaN  대 여자 키 크 나이 비하다 성숙하다 이미지 가지다 있다 잇 팁답다 차갑 도도 첫인...\n",
              "4      NaN  요즘 끌리다 남자 있다 이다 거 같 인줄 알다 상황 따르다 행동 변경 잘 하 고백하...\n",
              "...    ...                                                ...\n",
              "1584   NaN  글 보다 유형분 조금 더 거절당하다 것 헤어지다 가능 등등 미리 마음 대비 하다 편...\n",
              "1585   NaN  어떻 매번 검사하다 때 에프제 나오다 결국 에프 제라 것 인정하다 살다 있다 ㅋㅋ ...\n",
              "1586   NaN  회사 그만두다 말 오늘 대표 꼭 하다 하다 왜 말 안 나오다 왜 죠 왜 그 만두다 ...\n",
              "1587   NaN           것 도대체 그리고 검사하다 때 계속 나오다 하 거 능력자 분 알리다 주다\n",
              "1588   NaN  이너프제 성향 하 않다 그래서 계획 잘 세우다 메모하다 습관 있다 기억력 안 좋 꼭...\n",
              "\n",
              "[18000 rows x 2 columns]"
            ]
          },
          "metadata": {
            "tags": []
          },
          "execution_count": 91
        }
      ]
    },
    {
      "cell_type": "code",
      "metadata": {
        "colab": {
          "base_uri": "https://localhost:8080/",
          "height": 435
        },
        "id": "NS3HEk3UNBuo",
        "outputId": "a9d9a81e-b55d-421a-ed98-05191a73322e"
      },
      "source": [
        "data = data.reset_index(drop=True)\r\n",
        "data"
      ],
      "execution_count": null,
      "outputs": [
        {
          "output_type": "execute_result",
          "data": {
            "text/html": [
              "<div>\n",
              "<style scoped>\n",
              "    .dataframe tbody tr th:only-of-type {\n",
              "        vertical-align: middle;\n",
              "    }\n",
              "\n",
              "    .dataframe tbody tr th {\n",
              "        vertical-align: top;\n",
              "    }\n",
              "\n",
              "    .dataframe thead th {\n",
              "        text-align: right;\n",
              "    }\n",
              "</style>\n",
              "<table border=\"1\" class=\"dataframe\">\n",
              "  <thead>\n",
              "    <tr style=\"text-align: right;\">\n",
              "      <th></th>\n",
              "      <th>type</th>\n",
              "      <th>posts</th>\n",
              "    </tr>\n",
              "  </thead>\n",
              "  <tbody>\n",
              "    <tr>\n",
              "      <th>0</th>\n",
              "      <td>NaN</td>\n",
              "      <td>최근 카페 질의응답 게시판 지속 등업 요구하다 글 올라오다 있다 엠헬 가입인사 코너...</td>\n",
              "    </tr>\n",
              "    <tr>\n",
              "      <th>1</th>\n",
              "      <td>NaN</td>\n",
              "      <td>크 연타 주다 글 자신 마음 안 들다 늘 부족하다 것 같 절대 사랑하다 없 사람 글...</td>\n",
              "    </tr>\n",
              "    <tr>\n",
              "      <th>2</th>\n",
              "      <td>NaN</td>\n",
              "      <td>유고슬라비아 남 슬 라브 국가 세르비아 슬로베니아 크로아티아 보스니아 북마케도니아 ...</td>\n",
              "    </tr>\n",
              "    <tr>\n",
              "      <th>3</th>\n",
              "      <td>NaN</td>\n",
              "      <td>대 여자 키 크 나이 비하다 성숙하다 이미지 가지다 있다 잇 팁답다 차갑 도도 첫인...</td>\n",
              "    </tr>\n",
              "    <tr>\n",
              "      <th>4</th>\n",
              "      <td>NaN</td>\n",
              "      <td>요즘 끌리다 남자 있다 이다 거 같 인줄 알다 상황 따르다 행동 변경 잘 하 고백하...</td>\n",
              "    </tr>\n",
              "    <tr>\n",
              "      <th>...</th>\n",
              "      <td>...</td>\n",
              "      <td>...</td>\n",
              "    </tr>\n",
              "    <tr>\n",
              "      <th>17995</th>\n",
              "      <td>NaN</td>\n",
              "      <td>글 보다 유형분 조금 더 거절당하다 것 헤어지다 가능 등등 미리 마음 대비 하다 편...</td>\n",
              "    </tr>\n",
              "    <tr>\n",
              "      <th>17996</th>\n",
              "      <td>NaN</td>\n",
              "      <td>어떻 매번 검사하다 때 에프제 나오다 결국 에프 제라 것 인정하다 살다 있다 ㅋㅋ ...</td>\n",
              "    </tr>\n",
              "    <tr>\n",
              "      <th>17997</th>\n",
              "      <td>NaN</td>\n",
              "      <td>회사 그만두다 말 오늘 대표 꼭 하다 하다 왜 말 안 나오다 왜 죠 왜 그 만두다 ...</td>\n",
              "    </tr>\n",
              "    <tr>\n",
              "      <th>17998</th>\n",
              "      <td>NaN</td>\n",
              "      <td>것 도대체 그리고 검사하다 때 계속 나오다 하 거 능력자 분 알리다 주다</td>\n",
              "    </tr>\n",
              "    <tr>\n",
              "      <th>17999</th>\n",
              "      <td>NaN</td>\n",
              "      <td>이너프제 성향 하 않다 그래서 계획 잘 세우다 메모하다 습관 있다 기억력 안 좋 꼭...</td>\n",
              "    </tr>\n",
              "  </tbody>\n",
              "</table>\n",
              "<p>18000 rows × 2 columns</p>\n",
              "</div>"
            ],
            "text/plain": [
              "       type                                              posts\n",
              "0       NaN  최근 카페 질의응답 게시판 지속 등업 요구하다 글 올라오다 있다 엠헬 가입인사 코너...\n",
              "1       NaN  크 연타 주다 글 자신 마음 안 들다 늘 부족하다 것 같 절대 사랑하다 없 사람 글...\n",
              "2       NaN  유고슬라비아 남 슬 라브 국가 세르비아 슬로베니아 크로아티아 보스니아 북마케도니아 ...\n",
              "3       NaN  대 여자 키 크 나이 비하다 성숙하다 이미지 가지다 있다 잇 팁답다 차갑 도도 첫인...\n",
              "4       NaN  요즘 끌리다 남자 있다 이다 거 같 인줄 알다 상황 따르다 행동 변경 잘 하 고백하...\n",
              "...     ...                                                ...\n",
              "17995   NaN  글 보다 유형분 조금 더 거절당하다 것 헤어지다 가능 등등 미리 마음 대비 하다 편...\n",
              "17996   NaN  어떻 매번 검사하다 때 에프제 나오다 결국 에프 제라 것 인정하다 살다 있다 ㅋㅋ ...\n",
              "17997   NaN  회사 그만두다 말 오늘 대표 꼭 하다 하다 왜 말 안 나오다 왜 죠 왜 그 만두다 ...\n",
              "17998   NaN           것 도대체 그리고 검사하다 때 계속 나오다 하 거 능력자 분 알리다 주다\n",
              "17999   NaN  이너프제 성향 하 않다 그래서 계획 잘 세우다 메모하다 습관 있다 기억력 안 좋 꼭...\n",
              "\n",
              "[18000 rows x 2 columns]"
            ]
          },
          "metadata": {
            "tags": []
          },
          "execution_count": 92
        }
      ]
    },
    {
      "cell_type": "code",
      "metadata": {
        "id": "QLRb6HazLb4-"
      },
      "source": [
        "data_type = pd.read_csv(\"data_winter_final.csv\")"
      ],
      "execution_count": null,
      "outputs": []
    },
    {
      "cell_type": "code",
      "metadata": {
        "colab": {
          "base_uri": "https://localhost:8080/",
          "height": 469
        },
        "id": "JPuWNsQOMrax",
        "outputId": "68a0d66a-4819-476c-d915-2632c558b6f5"
      },
      "source": [
        "data_type = data_type[data_type.posts.str.len()>50]\r\n",
        "data_type = data_type.reset_index(drop=True)\r\n",
        "data_type"
      ],
      "execution_count": null,
      "outputs": [
        {
          "output_type": "execute_result",
          "data": {
            "text/html": [
              "<div>\n",
              "<style scoped>\n",
              "    .dataframe tbody tr th:only-of-type {\n",
              "        vertical-align: middle;\n",
              "    }\n",
              "\n",
              "    .dataframe tbody tr th {\n",
              "        vertical-align: top;\n",
              "    }\n",
              "\n",
              "    .dataframe thead th {\n",
              "        text-align: right;\n",
              "    }\n",
              "</style>\n",
              "<table border=\"1\" class=\"dataframe\">\n",
              "  <thead>\n",
              "    <tr style=\"text-align: right;\">\n",
              "      <th></th>\n",
              "      <th>type</th>\n",
              "      <th>posts</th>\n",
              "    </tr>\n",
              "  </thead>\n",
              "  <tbody>\n",
              "    <tr>\n",
              "      <th>0</th>\n",
              "      <td>ESTP</td>\n",
              "      <td>1. 최근 카페의 질의응답 게시판에 지속적으로 등업을 요구하는 글이 올라오고 있습니...</td>\n",
              "    </tr>\n",
              "    <tr>\n",
              "      <th>1</th>\n",
              "      <td>INFP</td>\n",
              "      <td>제게 큰 현타를 주었던 글이에요.제 자신이 마음에 안 들고,늘 부족한 것 같고,절대...</td>\n",
              "    </tr>\n",
              "    <tr>\n",
              "      <th>2</th>\n",
              "      <td>ISFJ</td>\n",
              "      <td>유고슬라비아는 남슬라브 국가들(세르비아, 슬로베니아, 크로아티아, 보스니아, 북마케...</td>\n",
              "    </tr>\n",
              "    <tr>\n",
              "      <th>3</th>\n",
              "      <td>ISTP</td>\n",
              "      <td>10대 여자고 키도 크고 나이에 비해 성숙한 이미지를 가지고 있어요. 잇팁답게 차갑...</td>\n",
              "    </tr>\n",
              "    <tr>\n",
              "      <th>4</th>\n",
              "      <td>ISFP</td>\n",
              "      <td>제가 요즘 끌리는 남자가있는데 esfp인거같아요esfj인줄 알았는데 상황에따라 행동...</td>\n",
              "    </tr>\n",
              "    <tr>\n",
              "      <th>...</th>\n",
              "      <td>...</td>\n",
              "      <td>...</td>\n",
              "    </tr>\n",
              "    <tr>\n",
              "      <th>20747</th>\n",
              "      <td>INFJ</td>\n",
              "      <td>나는 이 카페서 글보고 덧글달고 글쓰는 반면옆의 친구(ISTJ)는 축구보고 뉴스보고...</td>\n",
              "    </tr>\n",
              "    <tr>\n",
              "      <th>20748</th>\n",
              "      <td>ENFJ</td>\n",
              "      <td>10년넘은 친구가 있는데 그친구의 성격으로 제가 추측해봤을 때 그 친구는 E*FP였...</td>\n",
              "    </tr>\n",
              "    <tr>\n",
              "      <th>20749</th>\n",
              "      <td>INFJ</td>\n",
              "      <td>구성지음, 갈라놓음. istj가 아닐까요.어느날 제가 목이 말라서 친구녀석에게 물좀...</td>\n",
              "    </tr>\n",
              "    <tr>\n",
              "      <th>20750</th>\n",
              "      <td>ISTJ</td>\n",
              "      <td>이런 유형의 비슷한 질문이 있기는 했지만 대부분 ISTJ 남자와 잘맞을 거 같은 여...</td>\n",
              "    </tr>\n",
              "    <tr>\n",
              "      <th>20751</th>\n",
              "      <td>ISFP</td>\n",
              "      <td>학교 말듣 숙제로 백상예술대상을 조사해 가야 하는데 어떻게 해야 할지 잘 모르겠어요...</td>\n",
              "    </tr>\n",
              "  </tbody>\n",
              "</table>\n",
              "<p>20752 rows × 2 columns</p>\n",
              "</div>"
            ],
            "text/plain": [
              "       type                                              posts\n",
              "0      ESTP  1. 최근 카페의 질의응답 게시판에 지속적으로 등업을 요구하는 글이 올라오고 있습니...\n",
              "1      INFP  제게 큰 현타를 주었던 글이에요.제 자신이 마음에 안 들고,늘 부족한 것 같고,절대...\n",
              "2      ISFJ  유고슬라비아는 남슬라브 국가들(세르비아, 슬로베니아, 크로아티아, 보스니아, 북마케...\n",
              "3      ISTP  10대 여자고 키도 크고 나이에 비해 성숙한 이미지를 가지고 있어요. 잇팁답게 차갑...\n",
              "4      ISFP  제가 요즘 끌리는 남자가있는데 esfp인거같아요esfj인줄 알았는데 상황에따라 행동...\n",
              "...     ...                                                ...\n",
              "20747  INFJ  나는 이 카페서 글보고 덧글달고 글쓰는 반면옆의 친구(ISTJ)는 축구보고 뉴스보고...\n",
              "20748  ENFJ  10년넘은 친구가 있는데 그친구의 성격으로 제가 추측해봤을 때 그 친구는 E*FP였...\n",
              "20749  INFJ  구성지음, 갈라놓음. istj가 아닐까요.어느날 제가 목이 말라서 친구녀석에게 물좀...\n",
              "20750  ISTJ  이런 유형의 비슷한 질문이 있기는 했지만 대부분 ISTJ 남자와 잘맞을 거 같은 여...\n",
              "20751  ISFP  학교 말듣 숙제로 백상예술대상을 조사해 가야 하는데 어떻게 해야 할지 잘 모르겠어요...\n",
              "\n",
              "[20752 rows x 2 columns]"
            ]
          },
          "metadata": {
            "tags": []
          },
          "execution_count": 94
        }
      ]
    },
    {
      "cell_type": "code",
      "metadata": {
        "id": "v0QNAGRFSQcH"
      },
      "source": [
        "data.rename(columns = {\"posts\": \"clean_posts\"}, inplace=True)"
      ],
      "execution_count": null,
      "outputs": []
    },
    {
      "cell_type": "code",
      "metadata": {
        "id": "nNB5JKeITG9w"
      },
      "source": [
        "data['posts'] = data_type['posts'][:18000]"
      ],
      "execution_count": null,
      "outputs": []
    },
    {
      "cell_type": "code",
      "metadata": {
        "colab": {
          "base_uri": "https://localhost:8080/",
          "height": 721
        },
        "id": "F52gkkqbNcBj",
        "outputId": "f93ffb52-9083-4912-fb99-5cdb3f990240"
      },
      "source": [
        "data['type'] = data_type['type'][:18000]\r\n",
        "data"
      ],
      "execution_count": null,
      "outputs": [
        {
          "output_type": "execute_result",
          "data": {
            "text/html": [
              "<div>\n",
              "<style scoped>\n",
              "    .dataframe tbody tr th:only-of-type {\n",
              "        vertical-align: middle;\n",
              "    }\n",
              "\n",
              "    .dataframe tbody tr th {\n",
              "        vertical-align: top;\n",
              "    }\n",
              "\n",
              "    .dataframe thead th {\n",
              "        text-align: right;\n",
              "    }\n",
              "</style>\n",
              "<table border=\"1\" class=\"dataframe\">\n",
              "  <thead>\n",
              "    <tr style=\"text-align: right;\">\n",
              "      <th></th>\n",
              "      <th>type</th>\n",
              "      <th>clean_posts</th>\n",
              "      <th>posts</th>\n",
              "    </tr>\n",
              "  </thead>\n",
              "  <tbody>\n",
              "    <tr>\n",
              "      <th>0</th>\n",
              "      <td>ESTP</td>\n",
              "      <td>최근 카페 질의응답 게시판 지속 등업 요구하다 글 올라오다 있다 엠헬 가입인사 코너...</td>\n",
              "      <td>1. 최근 카페의 질의응답 게시판에 지속적으로 등업을 요구하는 글이 올라오고 있습니...</td>\n",
              "    </tr>\n",
              "    <tr>\n",
              "      <th>1</th>\n",
              "      <td>INFP</td>\n",
              "      <td>크 연타 주다 글 자신 마음 안 들다 늘 부족하다 것 같 절대 사랑하다 없 사람 글...</td>\n",
              "      <td>제게 큰 현타를 주었던 글이에요.제 자신이 마음에 안 들고,늘 부족한 것 같고,절대...</td>\n",
              "    </tr>\n",
              "    <tr>\n",
              "      <th>2</th>\n",
              "      <td>ISFJ</td>\n",
              "      <td>유고슬라비아 남 슬 라브 국가 세르비아 슬로베니아 크로아티아 보스니아 북마케도니아 ...</td>\n",
              "      <td>유고슬라비아는 남슬라브 국가들(세르비아, 슬로베니아, 크로아티아, 보스니아, 북마케...</td>\n",
              "    </tr>\n",
              "    <tr>\n",
              "      <th>3</th>\n",
              "      <td>ISTP</td>\n",
              "      <td>대 여자 키 크 나이 비하다 성숙하다 이미지 가지다 있다 잇 팁답다 차갑 도도 첫인...</td>\n",
              "      <td>10대 여자고 키도 크고 나이에 비해 성숙한 이미지를 가지고 있어요. 잇팁답게 차갑...</td>\n",
              "    </tr>\n",
              "    <tr>\n",
              "      <th>4</th>\n",
              "      <td>ISFP</td>\n",
              "      <td>요즘 끌리다 남자 있다 이다 거 같 인줄 알다 상황 따르다 행동 변경 잘 하 고백하...</td>\n",
              "      <td>제가 요즘 끌리는 남자가있는데 esfp인거같아요esfj인줄 알았는데 상황에따라 행동...</td>\n",
              "    </tr>\n",
              "    <tr>\n",
              "      <th>...</th>\n",
              "      <td>...</td>\n",
              "      <td>...</td>\n",
              "      <td>...</td>\n",
              "    </tr>\n",
              "    <tr>\n",
              "      <th>17995</th>\n",
              "      <td>ENTJ</td>\n",
              "      <td>글 보다 유형분 조금 더 거절당하다 것 헤어지다 가능 등등 미리 마음 대비 하다 편...</td>\n",
              "      <td>여러 글들을 봤는데infj enfj 유형분들이 조금 더 \"거절 당할 것\" \"헤어질 ...</td>\n",
              "    </tr>\n",
              "    <tr>\n",
              "      <th>17996</th>\n",
              "      <td>ENFJ</td>\n",
              "      <td>어떻 매번 검사하다 때 에프제 나오다 결국 에프 제라 것 인정하다 살다 있다 ㅋㅋ ...</td>\n",
              "      <td>어떤가요?? 저는 매번 검사 할 때마다 엔프제만 나와서 결국 내가 엔프제라는걸 인정...</td>\n",
              "    </tr>\n",
              "    <tr>\n",
              "      <th>17997</th>\n",
              "      <td>INFJ</td>\n",
              "      <td>회사 그만두다 말 오늘 대표 꼭 하다 하다 왜 말 안 나오다 왜 죠 왜 그 만두다 ...</td>\n",
              "      <td>회사 그만둔다는 말 오늘은 대표님께 꼭 하려고했는데요 ,,왜 말이 안나올까요?😱😱왜...</td>\n",
              "    </tr>\n",
              "    <tr>\n",
              "      <th>17998</th>\n",
              "      <td>ENFJ</td>\n",
              "      <td>것 도대체 그리고 검사하다 때 계속 나오다 하 거 능력자 분 알리다 주다</td>\n",
              "      <td>3w4, 4w5, 6w7 이런건 도대체 뭔지..그리고 저는 검사할때마다 계속 ENF...</td>\n",
              "    </tr>\n",
              "    <tr>\n",
              "      <th>17999</th>\n",
              "      <td>INFJ</td>\n",
              "      <td>이너프제 성향 하 않다 그래서 계획 잘 세우다 메모하다 습관 있다 기억력 안 좋 꼭...</td>\n",
              "      <td>인프제는 J 성향이 강하잖아요.그래서 계획 잘 세우고 메모하는 습관 있고(기억력 안...</td>\n",
              "    </tr>\n",
              "  </tbody>\n",
              "</table>\n",
              "<p>18000 rows × 3 columns</p>\n",
              "</div>"
            ],
            "text/plain": [
              "       type  ...                                              posts\n",
              "0      ESTP  ...  1. 최근 카페의 질의응답 게시판에 지속적으로 등업을 요구하는 글이 올라오고 있습니...\n",
              "1      INFP  ...  제게 큰 현타를 주었던 글이에요.제 자신이 마음에 안 들고,늘 부족한 것 같고,절대...\n",
              "2      ISFJ  ...  유고슬라비아는 남슬라브 국가들(세르비아, 슬로베니아, 크로아티아, 보스니아, 북마케...\n",
              "3      ISTP  ...  10대 여자고 키도 크고 나이에 비해 성숙한 이미지를 가지고 있어요. 잇팁답게 차갑...\n",
              "4      ISFP  ...  제가 요즘 끌리는 남자가있는데 esfp인거같아요esfj인줄 알았는데 상황에따라 행동...\n",
              "...     ...  ...                                                ...\n",
              "17995  ENTJ  ...  여러 글들을 봤는데infj enfj 유형분들이 조금 더 \"거절 당할 것\" \"헤어질 ...\n",
              "17996  ENFJ  ...  어떤가요?? 저는 매번 검사 할 때마다 엔프제만 나와서 결국 내가 엔프제라는걸 인정...\n",
              "17997  INFJ  ...  회사 그만둔다는 말 오늘은 대표님께 꼭 하려고했는데요 ,,왜 말이 안나올까요?😱😱왜...\n",
              "17998  ENFJ  ...  3w4, 4w5, 6w7 이런건 도대체 뭔지..그리고 저는 검사할때마다 계속 ENF...\n",
              "17999  INFJ  ...  인프제는 J 성향이 강하잖아요.그래서 계획 잘 세우고 메모하는 습관 있고(기억력 안...\n",
              "\n",
              "[18000 rows x 3 columns]"
            ]
          },
          "metadata": {
            "tags": []
          },
          "execution_count": 97
        }
      ]
    },
    {
      "cell_type": "code",
      "metadata": {
        "colab": {
          "base_uri": "https://localhost:8080/"
        },
        "id": "2pMYkP2bRdy8",
        "outputId": "3c491355-7bdd-443a-cc4d-6d3ae8201ad0"
      },
      "source": [
        "data.shape"
      ],
      "execution_count": null,
      "outputs": [
        {
          "output_type": "execute_result",
          "data": {
            "text/plain": [
              "(18000, 3)"
            ]
          },
          "metadata": {
            "tags": []
          },
          "execution_count": 98
        }
      ]
    },
    {
      "cell_type": "code",
      "metadata": {
        "colab": {
          "base_uri": "https://localhost:8080/"
        },
        "id": "HeOECncQSETK",
        "outputId": "9c8eb968-c8ed-4b26-968c-7447f20763c8"
      },
      "source": [
        "# Split mbti personality into 4 letters and binarize\r\n",
        "titles = [\"Extraversion (E) - Introversion (I)\",\r\n",
        "          \"Sensation (S) - INtuition (N)\",\r\n",
        "          \"Thinking (T) - Feeling (F)\",\r\n",
        "          \"Judgement (J) - Perception (P)\"\r\n",
        "         ] \r\n",
        "b_Pers = {'I':0, 'E':1, 'N':0, 'S':1, 'F':0, 'T':1, 'J':0, 'P':1}\r\n",
        "b_Pers_list = [{0:'I', 1:'E'}, {0:'N', 1:'S'}, {0:'F', 1:'T'}, {0:'J', 1:'P'}]\r\n",
        "\r\n",
        "\r\n",
        "#transform mbti to binary vector\r\n",
        "def translate_personality(personality):\r\n",
        "    return [b_Pers[l] for l in personality]\r\n",
        "\r\n",
        "#transform binary vector to mbti personality\r\n",
        "def translate_back(personality):\r\n",
        "    s = \"\"\r\n",
        "    for i, l in enumerate(personality):\r\n",
        "        s += b_Pers_list[i][l]\r\n",
        "    return s\r\n",
        "\r\n",
        "list_personality_bin = np.array([translate_personality(p) for p in data.type])\r\n",
        "print(\"Binarize MBTI list: \\n%s\" % list_personality_bin)"
      ],
      "execution_count": null,
      "outputs": [
        {
          "output_type": "stream",
          "text": [
            "Binarize MBTI list: \n",
            "[[1 1 1 1]\n",
            " [0 0 0 1]\n",
            " [0 1 0 0]\n",
            " ...\n",
            " [0 0 0 0]\n",
            " [1 0 0 0]\n",
            " [0 0 0 0]]\n"
          ],
          "name": "stdout"
        }
      ]
    },
    {
      "cell_type": "code",
      "metadata": {
        "id": "qWnpIYHuTo4f"
      },
      "source": [
        "data['I-E'] = list_personality_bin[:,0]\r\n",
        "data['N-S'] = list_personality_bin[:,1]\r\n",
        "data['F-T'] = list_personality_bin[:,2]\r\n",
        "data['J-P'] = list_personality_bin[:,3]"
      ],
      "execution_count": null,
      "outputs": []
    },
    {
      "cell_type": "code",
      "metadata": {
        "colab": {
          "base_uri": "https://localhost:8080/",
          "height": 380
        },
        "id": "W_WdBIkmTq4A",
        "outputId": "0b01c94f-9961-467c-a7e0-a2b87e2282f5"
      },
      "source": [
        "data.head()"
      ],
      "execution_count": null,
      "outputs": [
        {
          "output_type": "execute_result",
          "data": {
            "text/html": [
              "<div>\n",
              "<style scoped>\n",
              "    .dataframe tbody tr th:only-of-type {\n",
              "        vertical-align: middle;\n",
              "    }\n",
              "\n",
              "    .dataframe tbody tr th {\n",
              "        vertical-align: top;\n",
              "    }\n",
              "\n",
              "    .dataframe thead th {\n",
              "        text-align: right;\n",
              "    }\n",
              "</style>\n",
              "<table border=\"1\" class=\"dataframe\">\n",
              "  <thead>\n",
              "    <tr style=\"text-align: right;\">\n",
              "      <th></th>\n",
              "      <th>type</th>\n",
              "      <th>clean_posts</th>\n",
              "      <th>posts</th>\n",
              "      <th>I-E</th>\n",
              "      <th>N-S</th>\n",
              "      <th>F-T</th>\n",
              "      <th>J-P</th>\n",
              "    </tr>\n",
              "  </thead>\n",
              "  <tbody>\n",
              "    <tr>\n",
              "      <th>0</th>\n",
              "      <td>ESTP</td>\n",
              "      <td>최근 카페 질의응답 게시판 지속 등업 요구하다 글 올라오다 있다 엠헬 가입인사 코너...</td>\n",
              "      <td>1. 최근 카페의 질의응답 게시판에 지속적으로 등업을 요구하는 글이 올라오고 있습니...</td>\n",
              "      <td>1</td>\n",
              "      <td>1</td>\n",
              "      <td>1</td>\n",
              "      <td>1</td>\n",
              "    </tr>\n",
              "    <tr>\n",
              "      <th>1</th>\n",
              "      <td>INFP</td>\n",
              "      <td>크 연타 주다 글 자신 마음 안 들다 늘 부족하다 것 같 절대 사랑하다 없 사람 글...</td>\n",
              "      <td>제게 큰 현타를 주었던 글이에요.제 자신이 마음에 안 들고,늘 부족한 것 같고,절대...</td>\n",
              "      <td>0</td>\n",
              "      <td>0</td>\n",
              "      <td>0</td>\n",
              "      <td>1</td>\n",
              "    </tr>\n",
              "    <tr>\n",
              "      <th>2</th>\n",
              "      <td>ISFJ</td>\n",
              "      <td>유고슬라비아 남 슬 라브 국가 세르비아 슬로베니아 크로아티아 보스니아 북마케도니아 ...</td>\n",
              "      <td>유고슬라비아는 남슬라브 국가들(세르비아, 슬로베니아, 크로아티아, 보스니아, 북마케...</td>\n",
              "      <td>0</td>\n",
              "      <td>1</td>\n",
              "      <td>0</td>\n",
              "      <td>0</td>\n",
              "    </tr>\n",
              "    <tr>\n",
              "      <th>3</th>\n",
              "      <td>ISTP</td>\n",
              "      <td>대 여자 키 크 나이 비하다 성숙하다 이미지 가지다 있다 잇 팁답다 차갑 도도 첫인...</td>\n",
              "      <td>10대 여자고 키도 크고 나이에 비해 성숙한 이미지를 가지고 있어요. 잇팁답게 차갑...</td>\n",
              "      <td>0</td>\n",
              "      <td>1</td>\n",
              "      <td>1</td>\n",
              "      <td>1</td>\n",
              "    </tr>\n",
              "    <tr>\n",
              "      <th>4</th>\n",
              "      <td>ISFP</td>\n",
              "      <td>요즘 끌리다 남자 있다 이다 거 같 인줄 알다 상황 따르다 행동 변경 잘 하 고백하...</td>\n",
              "      <td>제가 요즘 끌리는 남자가있는데 esfp인거같아요esfj인줄 알았는데 상황에따라 행동...</td>\n",
              "      <td>0</td>\n",
              "      <td>1</td>\n",
              "      <td>0</td>\n",
              "      <td>1</td>\n",
              "    </tr>\n",
              "  </tbody>\n",
              "</table>\n",
              "</div>"
            ],
            "text/plain": [
              "   type                                        clean_posts  ... F-T  J-P\n",
              "0  ESTP  최근 카페 질의응답 게시판 지속 등업 요구하다 글 올라오다 있다 엠헬 가입인사 코너...  ...   1    1\n",
              "1  INFP  크 연타 주다 글 자신 마음 안 들다 늘 부족하다 것 같 절대 사랑하다 없 사람 글...  ...   0    1\n",
              "2  ISFJ  유고슬라비아 남 슬 라브 국가 세르비아 슬로베니아 크로아티아 보스니아 북마케도니아 ...  ...   0    0\n",
              "3  ISTP  대 여자 키 크 나이 비하다 성숙하다 이미지 가지다 있다 잇 팁답다 차갑 도도 첫인...  ...   1    1\n",
              "4  ISFP  요즘 끌리다 남자 있다 이다 거 같 인줄 알다 상황 따르다 행동 변경 잘 하 고백하...  ...   0    1\n",
              "\n",
              "[5 rows x 7 columns]"
            ]
          },
          "metadata": {
            "tags": []
          },
          "execution_count": 101
        }
      ]
    },
    {
      "cell_type": "code",
      "metadata": {
        "id": "P50kY4x_UoKb"
      },
      "source": [
        "data = data[~data['clean_posts'].isnull()]\r\n",
        "data = data.reset_index(drop=True)"
      ],
      "execution_count": null,
      "outputs": []
    },
    {
      "cell_type": "code",
      "metadata": {
        "colab": {
          "base_uri": "https://localhost:8080/"
        },
        "id": "830-0XRGUu6I",
        "outputId": "f17d5cbf-a5ac-497c-aef3-6011b86b37d2"
      },
      "source": [
        "data.shape"
      ],
      "execution_count": null,
      "outputs": [
        {
          "output_type": "execute_result",
          "data": {
            "text/plain": [
              "(17928, 7)"
            ]
          },
          "metadata": {
            "tags": []
          },
          "execution_count": 103
        }
      ]
    },
    {
      "cell_type": "markdown",
      "metadata": {
        "id": "4N5VxlImTxd3"
      },
      "source": [
        "# train / test / validation"
      ]
    },
    {
      "cell_type": "code",
      "metadata": {
        "id": "pzbGdFvWTsIb"
      },
      "source": [
        "from sklearn.model_selection import StratifiedShuffleSplit\r\n",
        "\r\n",
        "split = StratifiedShuffleSplit(n_splits=1, test_size=0.2, random_state=42)\r\n",
        "for train_index, test_index in split.split(data, data[['type']]):\r\n",
        "    strat_train_set = data.loc[train_index]\r\n",
        "    strat_test_set = data.loc[test_index]\r\n",
        "\r\n",
        "X_train =  strat_train_set['clean_posts']\r\n",
        "y_train = list_personality_bin[train_index]\r\n",
        "X_test = strat_test_set['clean_posts']\r\n",
        "y_test = list_personality_bin[test_index]"
      ],
      "execution_count": null,
      "outputs": []
    },
    {
      "cell_type": "code",
      "metadata": {
        "colab": {
          "base_uri": "https://localhost:8080/"
        },
        "id": "Kfy1Qa11T39o",
        "outputId": "b01c683b-1d57-4b3f-cdf0-04f09b91f139"
      },
      "source": [
        "print(f\"train_articles {len(X_train)}\")\r\n",
        "print(\"train_labels\", len(y_train))\r\n",
        "print(\"validation_articles\", len(X_test))\r\n",
        "print(\"validation_labels\", len(y_test))"
      ],
      "execution_count": null,
      "outputs": [
        {
          "output_type": "stream",
          "text": [
            "train_articles 14342\n",
            "train_labels 14342\n",
            "validation_articles 3586\n",
            "validation_labels 3586\n"
          ],
          "name": "stdout"
        }
      ]
    },
    {
      "cell_type": "code",
      "metadata": {
        "id": "Q-8J4SsbT75a"
      },
      "source": [
        "\r\n",
        "#\r\n",
        "from sklearn.feature_extraction.text import TfidfVectorizer\r\n",
        "#\r\n",
        "from sklearn import model_selection\r\n",
        "from sklearn.naive_bayes import MultinomialNB\r\n",
        "from sklearn import metrics"
      ],
      "execution_count": null,
      "outputs": []
    },
    {
      "cell_type": "code",
      "metadata": {
        "colab": {
          "base_uri": "https://localhost:8080/"
        },
        "id": "-fBdQgjpT-pY",
        "outputId": "2de8b668-6d1e-485e-b3a2-3e4e70137c00"
      },
      "source": [
        "\r\n",
        "categories = ['I-E', 'N-S', 'F-T', 'J-P']\r\n",
        "\r\n",
        "train, test = train_test_split(data, random_state=42, test_size=0.2, shuffle=True)\r\n",
        "X_train = train.clean_posts\r\n",
        "X_test = test.clean_posts\r\n",
        "print(X_train.shape)\r\n",
        "print(X_test.shape)"
      ],
      "execution_count": null,
      "outputs": [
        {
          "output_type": "stream",
          "text": [
            "(14342,)\n",
            "(3586,)\n"
          ],
          "name": "stdout"
        }
      ]
    },
    {
      "cell_type": "markdown",
      "metadata": {
        "id": "Cbyygb6uVkE2"
      },
      "source": [
        "# 모델 훈련"
      ]
    },
    {
      "cell_type": "code",
      "metadata": {
        "id": "FvGyvEZ2Vmed"
      },
      "source": [
        "from sklearn.metrics import confusion_matrix\r\n",
        "from sklearn.metrics import classification_report\r\n",
        "from sklearn.feature_extraction.text import TfidfVectorizer\r\n",
        "from sklearn.metrics import accuracy_score\r\n",
        "from sklearn.metrics import classification_report, f1_score, precision_score, recall_score\r\n",
        "from sklearn.metrics import roc_curve"
      ],
      "execution_count": null,
      "outputs": []
    },
    {
      "cell_type": "code",
      "metadata": {
        "colab": {
          "base_uri": "https://localhost:8080/"
        },
        "id": "WancZc3nUI2L",
        "outputId": "1dc80ee5-ba3b-4a72-dccf-f374231f60fc"
      },
      "source": [
        "%matplotlib inline\r\n",
        "import re\r\n",
        "import matplotlib\r\n",
        "import numpy as np\r\n",
        "import matplotlib.pyplot as plt\r\n",
        "import pandas as pd\r\n",
        "from sklearn.model_selection import train_test_split\r\n",
        "from sklearn.feature_extraction.text import TfidfVectorizer\r\n",
        "from sklearn.naive_bayes import MultinomialNB\r\n",
        "from sklearn.metrics import accuracy_score\r\n",
        "from sklearn.multiclass import OneVsRestClassifier\r\n",
        "from nltk.corpus import stopwords\r\n",
        "#stop_words = set(stopwords.words('english'))\r\n",
        "from sklearn.svm import LinearSVC\r\n",
        "from sklearn.linear_model import LogisticRegression\r\n",
        "from sklearn.pipeline import Pipeline\r\n",
        "import seaborn as sns\r\n",
        "\r\n",
        "# Define a pipeline combining a text feature extractor with multi lable classifier\r\n",
        "NB_pipeline = Pipeline([\r\n",
        "                ('tfidf', TfidfVectorizer()),\r\n",
        "                ('clf', OneVsRestClassifier(MultinomialNB(\r\n",
        "                    fit_prior=True, class_prior=None))),\r\n",
        "            ])\r\n",
        "for category in categories:\r\n",
        "    print('... Processing {}'.format(category))\r\n",
        "    # train the model using X_dtm & y\r\n",
        "    NB_pipeline.fit(X_train, train[category])\r\n",
        "    # compute the testing accuracy\r\n",
        "    prediction = NB_pipeline.predict(X_test)\r\n",
        "    print('Test accuracy is {}'.format(accuracy_score(test[category], prediction)))"
      ],
      "execution_count": null,
      "outputs": [
        {
          "output_type": "stream",
          "text": [
            "... Processing I-E\n",
            "Test accuracy is 0.6518813092688895\n",
            "... Processing N-S\n",
            "Test accuracy is 0.8311410217191801\n",
            "... Processing F-T\n",
            "Test accuracy is 0.6231263383297645\n",
            "... Processing J-P\n",
            "Test accuracy is 0.737840318140104\n"
          ],
          "name": "stdout"
        }
      ]
    },
    {
      "cell_type": "markdown",
      "metadata": {
        "id": "xTiumQ_IbSlg"
      },
      "source": [
        "18000"
      ]
    },
    {
      "cell_type": "code",
      "metadata": {
        "colab": {
          "base_uri": "https://localhost:8080/"
        },
        "id": "WXzUFbHfbRjp",
        "outputId": "32bc90d8-5eca-45c2-ada2-988b73eeca08"
      },
      "source": [
        "%matplotlib inline\r\n",
        "import re\r\n",
        "import matplotlib\r\n",
        "import numpy as np\r\n",
        "import matplotlib.pyplot as plt\r\n",
        "import pandas as pd\r\n",
        "from sklearn.model_selection import train_test_split\r\n",
        "from sklearn.feature_extraction.text import TfidfVectorizer\r\n",
        "from sklearn.naive_bayes import MultinomialNB\r\n",
        "from sklearn.metrics import accuracy_score\r\n",
        "from sklearn.multiclass import OneVsRestClassifier\r\n",
        "from nltk.corpus import stopwords\r\n",
        "#stop_words = set(stopwords.words('english'))\r\n",
        "from sklearn.svm import LinearSVC\r\n",
        "from sklearn.linear_model import LogisticRegression\r\n",
        "from sklearn.pipeline import Pipeline\r\n",
        "import seaborn as sns\r\n",
        "\r\n",
        "# Define a pipeline combining a text feature extractor with multi lable classifier\r\n",
        "NB_pipeline = Pipeline([\r\n",
        "                ('tfidf', TfidfVectorizer()),\r\n",
        "                ('clf', OneVsRestClassifier(MultinomialNB(\r\n",
        "                    fit_prior=True, class_prior=None))),\r\n",
        "            ])\r\n",
        "for category in categories:\r\n",
        "    print('... Processing {}'.format(category))\r\n",
        "    # train the model using X_dtm & y\r\n",
        "    NB_pipeline.fit(X_train, train[category])\r\n",
        "    # compute the testing accuracy\r\n",
        "    prediction = NB_pipeline.predict(X_test)\r\n",
        "    print('Test accuracy is {}'.format(accuracy_score(test[category], prediction)))"
      ],
      "execution_count": null,
      "outputs": [
        {
          "output_type": "stream",
          "text": [
            "... Processing I-E\n",
            "Test accuracy is 0.6556051310652538\n",
            "... Processing N-S\n",
            "Test accuracy is 0.8039598438371445\n",
            "... Processing F-T\n",
            "Test accuracy is 0.5886781929726715\n",
            "... Processing J-P\n",
            "Test accuracy is 0.7216954824316788\n"
          ],
          "name": "stdout"
        }
      ]
    },
    {
      "cell_type": "code",
      "metadata": {
        "colab": {
          "base_uri": "https://localhost:8080/"
        },
        "id": "rCPi38qcVc4I",
        "outputId": "c913d608-5e38-40de-c8eb-e02c00bca931"
      },
      "source": [
        "NB_pipeline = Pipeline([\r\n",
        "                ('tfidf', TfidfVectorizer()),\r\n",
        "                ('clf', OneVsRestClassifier(MultinomialNB(\r\n",
        "                    fit_prior=True, class_prior=None))),\r\n",
        "            ])\r\n",
        "total_score = 0\r\n",
        "acc =0\r\n",
        "for category in categories:\r\n",
        "    print('... Processing {}'.format(category))\r\n",
        "\r\n",
        "    NB_pipeline.fit(X_train, train[category])\r\n",
        "    prediction = NB_pipeline.predict(X_test)\r\n",
        "    score = f1_score(test[category], prediction, average='macro')\r\n",
        "    total_score += score\r\n",
        "    print('f1_score is {}'.format(score))\r\n",
        "    acc += accuracy_score(test[category], prediction)\r\n",
        "    print('accuracy is {}'.format(accuracy_score(test[category], prediction)))\r\n",
        "\r\n",
        "    print(confusion_matrix(test[category], prediction))\r\n",
        "    print(classification_report(test[category], prediction, target_names=['0', '1']))\r\n",
        "    labels = ['True Neg', 'False Pos', 'False Neg', 'True Pos']\r\n",
        "    labels = np.asarray(labels).reshape(2,2)\r\n",
        "    # sns.heatmap(cf_matrix, annot=labels, fmt=‘’, cmap='Blues')\r\n",
        "#     fpr, tpr, thresholds = roc_curve(train[category], NB_pipeline.predict_proba(X_train)[:, 1])\r\n",
        "#     plt.plot(fpr, tpr, '-', label=category)\r\n",
        "\r\n",
        "# plt.plot([0, 1], [0, 1], 'k--', label=\"random guess\")\r\n",
        "# plt.legend(fontsize = 8)\r\n",
        "# plt.xlabel('False Positive Rate')\r\n",
        "# plt.ylabel('True Positive Rate')\r\n",
        "# plt.title('MultinomialNB ROC Curve')\r\n",
        "# plt.show()\r\n",
        "\r\n",
        "print('Average f1-score of MultinomialNB : ', total_score/4)\r\n",
        "print('Average accuracy of MultinomialNB : ', acc/4)"
      ],
      "execution_count": null,
      "outputs": [
        {
          "output_type": "stream",
          "text": [
            "... Processing I-E\n",
            "f1_score is 0.3963028331292947\n",
            "accuracy is 0.6518813092688895\n",
            "[[2129    2]\n",
            " [1136    2]]\n",
            "              precision    recall  f1-score   support\n",
            "\n",
            "           0       0.65      1.00      0.79      2131\n",
            "           1       0.50      0.00      0.00      1138\n",
            "\n",
            "    accuracy                           0.65      3269\n",
            "   macro avg       0.58      0.50      0.40      3269\n",
            "weighted avg       0.60      0.65      0.52      3269\n",
            "\n",
            "... Processing N-S\n",
            "f1_score is 0.45389241563648514\n",
            "accuracy is 0.8311410217191801\n",
            "[[2717    0]\n",
            " [ 552    0]]\n",
            "              precision    recall  f1-score   support\n",
            "\n",
            "           0       0.83      1.00      0.91      2717\n",
            "           1       0.00      0.00      0.00       552\n",
            "\n",
            "    accuracy                           0.83      3269\n",
            "   macro avg       0.42      0.50      0.45      3269\n",
            "weighted avg       0.69      0.83      0.75      3269\n",
            "\n",
            "... Processing F-T\n"
          ],
          "name": "stdout"
        },
        {
          "output_type": "stream",
          "text": [
            "/usr/local/lib/python3.6/dist-packages/sklearn/metrics/_classification.py:1272: UndefinedMetricWarning: Precision and F-score are ill-defined and being set to 0.0 in labels with no predicted samples. Use `zero_division` parameter to control this behavior.\n",
            "  _warn_prf(average, modifier, msg_start, len(result))\n"
          ],
          "name": "stderr"
        },
        {
          "output_type": "stream",
          "text": [
            "f1_score is 0.5764696182702613\n",
            "accuracy is 0.6231263383297645\n",
            "[[1561  212]\n",
            " [1020  476]]\n",
            "              precision    recall  f1-score   support\n",
            "\n",
            "           0       0.60      0.88      0.72      1773\n",
            "           1       0.69      0.32      0.44      1496\n",
            "\n",
            "    accuracy                           0.62      3269\n",
            "   macro avg       0.65      0.60      0.58      3269\n",
            "weighted avg       0.64      0.62      0.59      3269\n",
            "\n",
            "... Processing J-P\n",
            "f1_score is 0.4268428733256858\n",
            "accuracy is 0.737840318140104\n",
            "[[   2  857]\n",
            " [   0 2410]]\n",
            "              precision    recall  f1-score   support\n",
            "\n",
            "           0       1.00      0.00      0.00       859\n",
            "           1       0.74      1.00      0.85      2410\n",
            "\n",
            "    accuracy                           0.74      3269\n",
            "   macro avg       0.87      0.50      0.43      3269\n",
            "weighted avg       0.81      0.74      0.63      3269\n",
            "\n",
            "Average f1-score of MultinomialNB :  0.46337693509043176\n",
            "Average accuracy of MultinomialNB :  0.7109972468644845\n"
          ],
          "name": "stdout"
        }
      ]
    },
    {
      "cell_type": "code",
      "metadata": {
        "colab": {
          "base_uri": "https://localhost:8080/"
        },
        "id": "RMeri_MUbYwE",
        "outputId": "e75c6994-3995-4c47-c429-2f508e316258"
      },
      "source": [
        "#18000\r\n",
        "NB_pipeline = Pipeline([\r\n",
        "                ('tfidf', TfidfVectorizer()),\r\n",
        "                ('clf', OneVsRestClassifier(MultinomialNB(\r\n",
        "                    fit_prior=True, class_prior=None))),\r\n",
        "            ])\r\n",
        "total_score = 0\r\n",
        "acc =0\r\n",
        "for category in categories:\r\n",
        "    print('... Processing {}'.format(category))\r\n",
        "\r\n",
        "    NB_pipeline.fit(X_train, train[category])\r\n",
        "    prediction = NB_pipeline.predict(X_test)\r\n",
        "    score = f1_score(test[category], prediction, average='macro')\r\n",
        "    total_score += score\r\n",
        "    print('f1_score is {}'.format(score))\r\n",
        "    acc += accuracy_score(test[category], prediction)\r\n",
        "    print('accuracy is {}'.format(accuracy_score(test[category], prediction)))\r\n",
        "\r\n",
        "    print(confusion_matrix(test[category], prediction))\r\n",
        "    print(classification_report(test[category], prediction, target_names=['0', '1']))\r\n",
        "    labels = ['True Neg', 'False Pos', 'False Neg', 'True Pos']\r\n",
        "    labels = np.asarray(labels).reshape(2,2)\r\n",
        "    # sns.heatmap(cf_matrix, annot=labels, fmt=‘’, cmap='Blues')\r\n",
        "#     fpr, tpr, thresholds = roc_curve(train[category], NB_pipeline.predict_proba(X_train)[:, 1])\r\n",
        "#     plt.plot(fpr, tpr, '-', label=category)\r\n",
        "\r\n",
        "# plt.plot([0, 1], [0, 1], 'k--', label=\"random guess\")\r\n",
        "# plt.legend(fontsize = 8)\r\n",
        "# plt.xlabel('False Positive Rate')\r\n",
        "# plt.ylabel('True Positive Rate')\r\n",
        "# plt.title('MultinomialNB ROC Curve')\r\n",
        "# plt.show()\r\n",
        "\r\n",
        "print('Average f1-score of MultinomialNB : ', total_score/4)\r\n",
        "print('Average accuracy of MultinomialNB : ', acc/4)"
      ],
      "execution_count": null,
      "outputs": [
        {
          "output_type": "stream",
          "text": [
            "... Processing I-E\n",
            "f1_score is 0.3975353241680335\n",
            "accuracy is 0.6556051310652538\n",
            "[[2349    1]\n",
            " [1234    2]]\n",
            "              precision    recall  f1-score   support\n",
            "\n",
            "           0       0.66      1.00      0.79      2350\n",
            "           1       0.67      0.00      0.00      1236\n",
            "\n",
            "    accuracy                           0.66      3586\n",
            "   macro avg       0.66      0.50      0.40      3586\n",
            "weighted avg       0.66      0.66      0.52      3586\n",
            "\n",
            "... Processing N-S\n",
            "f1_score is 0.44566393569330653\n",
            "accuracy is 0.8039598438371445\n",
            "[[2883    0]\n",
            " [ 703    0]]\n",
            "              precision    recall  f1-score   support\n",
            "\n",
            "           0       0.80      1.00      0.89      2883\n",
            "           1       0.00      0.00      0.00       703\n",
            "\n",
            "    accuracy                           0.80      3586\n",
            "   macro avg       0.40      0.50      0.45      3586\n",
            "weighted avg       0.65      0.80      0.72      3586\n",
            "\n",
            "... Processing F-T\n"
          ],
          "name": "stdout"
        },
        {
          "output_type": "stream",
          "text": [
            "/usr/local/lib/python3.6/dist-packages/sklearn/metrics/_classification.py:1272: UndefinedMetricWarning: Precision and F-score are ill-defined and being set to 0.0 in labels with no predicted samples. Use `zero_division` parameter to control this behavior.\n",
            "  _warn_prf(average, modifier, msg_start, len(result))\n"
          ],
          "name": "stderr"
        },
        {
          "output_type": "stream",
          "text": [
            "f1_score is 0.44785705151792726\n",
            "accuracy is 0.5886781929726715\n",
            "[[1961   55]\n",
            " [1420  150]]\n",
            "              precision    recall  f1-score   support\n",
            "\n",
            "           0       0.58      0.97      0.73      2016\n",
            "           1       0.73      0.10      0.17      1570\n",
            "\n",
            "    accuracy                           0.59      3586\n",
            "   macro avg       0.66      0.53      0.45      3586\n",
            "weighted avg       0.65      0.59      0.48      3586\n",
            "\n",
            "... Processing J-P\n",
            "f1_score is 0.42112080539083907\n",
            "accuracy is 0.7216954824316788\n",
            "[[   2  997]\n",
            " [   1 2586]]\n",
            "              precision    recall  f1-score   support\n",
            "\n",
            "           0       0.67      0.00      0.00       999\n",
            "           1       0.72      1.00      0.84      2587\n",
            "\n",
            "    accuracy                           0.72      3586\n",
            "   macro avg       0.69      0.50      0.42      3586\n",
            "weighted avg       0.71      0.72      0.61      3586\n",
            "\n",
            "Average f1-score of MultinomialNB :  0.4280442791925266\n",
            "Average accuracy of MultinomialNB :  0.6924846625766872\n"
          ],
          "name": "stdout"
        }
      ]
    },
    {
      "cell_type": "code",
      "metadata": {
        "colab": {
          "base_uri": "https://localhost:8080/"
        },
        "id": "H0n3cACBUMMF",
        "outputId": "7a1d652d-2ad0-4e21-cb69-c3fd09a333ad"
      },
      "source": [
        "SVC_pipeline = Pipeline([\r\n",
        "                ('tfidf', TfidfVectorizer()),\r\n",
        "                ('clf', OneVsRestClassifier(LinearSVC(), n_jobs=1)),\r\n",
        "            ])\r\n",
        "for category in categories:\r\n",
        "    print('... Processing {}'.format(category))\r\n",
        "    # train the model using X_dtm & y\r\n",
        "    SVC_pipeline.fit(X_train, train[category])\r\n",
        "    # compute the testing accuracy\r\n",
        "    prediction = SVC_pipeline.predict(X_test)\r\n",
        "    print('Test accuracy is {}'.format(accuracy_score(test[category], prediction)))"
      ],
      "execution_count": null,
      "outputs": [
        {
          "output_type": "stream",
          "text": [
            "... Processing I-E\n",
            "Test accuracy is 0.6332211685530743\n",
            "... Processing N-S\n",
            "Test accuracy is 0.8234934230651575\n",
            "... Processing F-T\n",
            "Test accuracy is 0.6130315081064546\n",
            "... Processing J-P\n",
            "Test accuracy is 0.7100030590394616\n"
          ],
          "name": "stdout"
        }
      ]
    },
    {
      "cell_type": "code",
      "metadata": {
        "colab": {
          "base_uri": "https://localhost:8080/",
          "height": 1000
        },
        "id": "UaUoevvBV28_",
        "outputId": "c984c17c-e18a-4454-90f4-86e256eb10fd"
      },
      "source": [
        "import seaborn as sns\r\n",
        "from matplotlib import gridspec\r\n",
        "\r\n",
        "SVC_pipeline = Pipeline([\r\n",
        "                ('tfidf', TfidfVectorizer()),\r\n",
        "                ('clf', OneVsRestClassifier(LinearSVC(), n_jobs=1))\r\n",
        "])\r\n",
        "\r\n",
        "total_f1_score = 0\r\n",
        "total_precision = 0\r\n",
        "total_recall = 0\r\n",
        "\r\n",
        "fig = plt.figure(figsize=(18, 16)) \r\n",
        "gs = gridspec.GridSpec(8,8 ) \r\n",
        "n=0\r\n",
        "for category in categories:\r\n",
        "    print('... Processing {}'.format(category))\r\n",
        "\r\n",
        "    SVC_pipeline.fit(X_train, train[category])\r\n",
        "    prediction = SVC_pipeline.predict(X_test)\r\n",
        "\r\n",
        "    f1_score_ = f1_score(test[category], prediction, average='macro')\r\n",
        "    # precision_ = precision_score(test[category], prediction)\r\n",
        "    # recall_ = recall_score(test[category], prediction)\r\n",
        "\r\n",
        "    total_f1_score += f1_score_\r\n",
        "    # total_precision += precision_\r\n",
        "    # total_recall += recall_\r\n",
        "\r\n",
        "    print('f1_score is {}'.format(f1_score_))\r\n",
        "    # print('precision is {}'.format(precision_))\r\n",
        "    # print('recall is {}'.format(recall_))\r\n",
        "\r\n",
        "    cf_matrix = confusion_matrix(test[category], prediction)\r\n",
        "    print(cf_matrix)\r\n",
        "    print(classification_report(test[category], prediction, target_names=['0', '1']))\r\n",
        "\r\n",
        "    # labels = ['True Neg', 'False Pos', 'False Neg', 'True Pos']\r\n",
        "    # labels = np.asarray(labels).reshape(2,2)\r\n",
        "    plt.subplot(gs[n*2+0])\r\n",
        "    sns.heatmap(cf_matrix, annot=True, cmap='Blues')\r\n",
        "    n+=1\r\n",
        "    # fpr, tpr, thresholds = roc_curve(train[category], SVC_pipeline.predict_proba(X_train)[:, 1])\r\n",
        "    # plt.plot(fpr, tpr, '-', label=category)\r\n",
        "\r\n",
        "# plt.plot([0, 1], [0, 1], 'k--', label=\"random guess\")\r\n",
        "# plt.legend(fontsize = 8)\r\n",
        "# plt.xlabel('False Positive Rate')\r\n",
        "# plt.ylabel('True Positive Rate')\r\n",
        "# plt.title('MultinomialNB ROC Curve')\r\n",
        "# plt.show()\r\n",
        "\r\n",
        "plt.tight_layout()  # 창 크기에 맞게 조정\r\n",
        "plt.show()\r\n",
        "print('Average f1-score of LinearSVC : ', total_f1_score/4)\r\n",
        "# print('Average precision of LinearSVC : ', total_precision/4)\r\n",
        "# print('Average recall of LinearSVC : ', total_recall/4)"
      ],
      "execution_count": null,
      "outputs": [
        {
          "output_type": "stream",
          "text": [
            "... Processing I-E\n",
            "f1_score is 0.5648226967678112\n",
            "[[1683  448]\n",
            " [ 751  387]]\n",
            "              precision    recall  f1-score   support\n",
            "\n",
            "           0       0.69      0.79      0.74      2131\n",
            "           1       0.46      0.34      0.39      1138\n",
            "\n",
            "    accuracy                           0.63      3269\n",
            "   macro avg       0.58      0.56      0.56      3269\n",
            "weighted avg       0.61      0.63      0.62      3269\n",
            "\n",
            "... Processing N-S\n",
            "f1_score is 0.5447225764344025\n",
            "[[2625   92]\n",
            " [ 485   67]]\n",
            "              precision    recall  f1-score   support\n",
            "\n",
            "           0       0.84      0.97      0.90      2717\n",
            "           1       0.42      0.12      0.19       552\n",
            "\n",
            "    accuracy                           0.82      3269\n",
            "   macro avg       0.63      0.54      0.54      3269\n",
            "weighted avg       0.77      0.82      0.78      3269\n",
            "\n",
            "... Processing F-T\n",
            "f1_score is 0.6101715494617674\n",
            "[[1142  631]\n",
            " [ 634  862]]\n",
            "              precision    recall  f1-score   support\n",
            "\n",
            "           0       0.64      0.64      0.64      1773\n",
            "           1       0.58      0.58      0.58      1496\n",
            "\n",
            "    accuracy                           0.61      3269\n",
            "   macro avg       0.61      0.61      0.61      3269\n",
            "weighted avg       0.61      0.61      0.61      3269\n",
            "\n",
            "... Processing J-P\n",
            "f1_score is 0.5469837037556791\n",
            "[[ 180  679]\n",
            " [ 269 2141]]\n",
            "              precision    recall  f1-score   support\n",
            "\n",
            "           0       0.40      0.21      0.28       859\n",
            "           1       0.76      0.89      0.82      2410\n",
            "\n",
            "    accuracy                           0.71      3269\n",
            "   macro avg       0.58      0.55      0.55      3269\n",
            "weighted avg       0.67      0.71      0.68      3269\n",
            "\n"
          ],
          "name": "stdout"
        },
        {
          "output_type": "display_data",
          "data": {
            "image/png": "[encoded data removed]",
            "text/plain": [
              "<Figure size 1296x1152 with 8 Axes>"
            ]
          },
          "metadata": {
            "tags": [],
            "needs_background": "light"
          }
        },
        {
          "output_type": "stream",
          "text": [
            "Average f1-score of LinearSVC :  0.566675131604915\n"
          ],
          "name": "stdout"
        }
      ]
    },
    {
      "cell_type": "code",
      "metadata": {
        "colab": {
          "base_uri": "https://localhost:8080/",
          "height": 1000
        },
        "id": "Ju0M2iJmbg3C",
        "outputId": "919346b3-f458-4f4a-aeda-bbf47c960ce8"
      },
      "source": [
        "#18000\r\n",
        "import seaborn as sns\r\n",
        "from matplotlib import gridspec\r\n",
        "\r\n",
        "SVC_pipeline = Pipeline([\r\n",
        "                ('tfidf', TfidfVectorizer()),\r\n",
        "                ('clf', OneVsRestClassifier(LinearSVC(), n_jobs=1))\r\n",
        "])\r\n",
        "\r\n",
        "total_f1_score = 0\r\n",
        "total_precision = 0\r\n",
        "total_recall = 0\r\n",
        "\r\n",
        "fig = plt.figure(figsize=(18, 16)) \r\n",
        "gs = gridspec.GridSpec(8,8 ) \r\n",
        "n=0\r\n",
        "for category in categories:\r\n",
        "    print('... Processing {}'.format(category))\r\n",
        "\r\n",
        "    SVC_pipeline.fit(X_train, train[category])\r\n",
        "    prediction = SVC_pipeline.predict(X_test)\r\n",
        "\r\n",
        "    f1_score_ = f1_score(test[category], prediction, average='macro')\r\n",
        "    # precision_ = precision_score(test[category], prediction)\r\n",
        "    # recall_ = recall_score(test[category], prediction)\r\n",
        "\r\n",
        "    total_f1_score += f1_score_\r\n",
        "    # total_precision += precision_\r\n",
        "    # total_recall += recall_\r\n",
        "\r\n",
        "    print('f1_score is {}'.format(f1_score_))\r\n",
        "    # print('precision is {}'.format(precision_))\r\n",
        "    # print('recall is {}'.format(recall_))\r\n",
        "\r\n",
        "    cf_matrix = confusion_matrix(test[category], prediction)\r\n",
        "    print(cf_matrix)\r\n",
        "    print(classification_report(test[category], prediction, target_names=['0', '1']))\r\n",
        "\r\n",
        "    # labels = ['True Neg', 'False Pos', 'False Neg', 'True Pos']\r\n",
        "    # labels = np.asarray(labels).reshape(2,2)\r\n",
        "    plt.subplot(gs[n*2+0])\r\n",
        "    sns.heatmap(cf_matrix, annot=True, cmap='Blues')\r\n",
        "    n+=1\r\n",
        "    # fpr, tpr, thresholds = roc_curve(train[category], SVC_pipeline.predict_proba(X_train)[:, 1])\r\n",
        "    # plt.plot(fpr, tpr, '-', label=category)\r\n",
        "\r\n",
        "# plt.plot([0, 1], [0, 1], 'k--', label=\"random guess\")\r\n",
        "# plt.legend(fontsize = 8)\r\n",
        "# plt.xlabel('False Positive Rate')\r\n",
        "# plt.ylabel('True Positive Rate')\r\n",
        "# plt.title('MultinomialNB ROC Curve')\r\n",
        "# plt.show()\r\n",
        "\r\n",
        "plt.tight_layout()  # 창 크기에 맞게 조정\r\n",
        "plt.show()\r\n",
        "print('Average f1-score of LinearSVC : ', total_f1_score/4)\r\n",
        "# print('Average precision of LinearSVC : ', total_precision/4)\r\n",
        "# print('Average recall of LinearSVC : ', total_recall/4)"
      ],
      "execution_count": null,
      "outputs": [
        {
          "output_type": "stream",
          "text": [
            "... Processing I-E\n",
            "f1_score is 0.5771353462520655\n",
            "[[1908  442]\n",
            " [ 814  422]]\n",
            "              precision    recall  f1-score   support\n",
            "\n",
            "           0       0.70      0.81      0.75      2350\n",
            "           1       0.49      0.34      0.40      1236\n",
            "\n",
            "    accuracy                           0.65      3586\n",
            "   macro avg       0.59      0.58      0.58      3586\n",
            "weighted avg       0.63      0.65      0.63      3586\n",
            "\n",
            "... Processing N-S\n",
            "f1_score is 0.6268913639853947\n",
            "[[2735  148]\n",
            " [ 515  188]]\n",
            "              precision    recall  f1-score   support\n",
            "\n",
            "           0       0.84      0.95      0.89      2883\n",
            "           1       0.56      0.27      0.36       703\n",
            "\n",
            "    accuracy                           0.82      3586\n",
            "   macro avg       0.70      0.61      0.63      3586\n",
            "weighted avg       0.79      0.82      0.79      3586\n",
            "\n",
            "... Processing F-T\n",
            "f1_score is 0.6186696771489897\n",
            "[[1471  545]\n",
            " [ 774  796]]\n",
            "              precision    recall  f1-score   support\n",
            "\n",
            "           0       0.66      0.73      0.69      2016\n",
            "           1       0.59      0.51      0.55      1570\n",
            "\n",
            "    accuracy                           0.63      3586\n",
            "   macro avg       0.62      0.62      0.62      3586\n",
            "weighted avg       0.63      0.63      0.63      3586\n",
            "\n",
            "... Processing J-P\n",
            "f1_score is 0.5472249445349655\n",
            "[[ 221  778]\n",
            " [ 314 2273]]\n",
            "              precision    recall  f1-score   support\n",
            "\n",
            "           0       0.41      0.22      0.29       999\n",
            "           1       0.75      0.88      0.81      2587\n",
            "\n",
            "    accuracy                           0.70      3586\n",
            "   macro avg       0.58      0.55      0.55      3586\n",
            "weighted avg       0.65      0.70      0.66      3586\n",
            "\n"
          ],
          "name": "stdout"
        },
        {
          "output_type": "display_data",
          "data": {
            "image/png": "[encoded data removed]",
            "text/plain": [
              "<Figure size 1296x1152 with 8 Axes>"
            ]
          },
          "metadata": {
            "tags": [],
            "needs_background": "light"
          }
        },
        {
          "output_type": "stream",
          "text": [
            "Average f1-score of LinearSVC :  0.5924803329803539\n"
          ],
          "name": "stdout"
        }
      ]
    },
    {
      "cell_type": "code",
      "metadata": {
        "colab": {
          "base_uri": "https://localhost:8080/"
        },
        "id": "OIe-UrEQUjGo",
        "outputId": "885b8148-d4e5-439f-90a1-344c3e5e3e4b"
      },
      "source": [
        "LogReg_pipeline = Pipeline([\r\n",
        "                ('tfidf', TfidfVectorizer()),\r\n",
        "                ('clf', OneVsRestClassifier(LogisticRegression(solver='sag'), n_jobs=1)),\r\n",
        "            ])\r\n",
        "for category in categories:\r\n",
        "    print('... Processing {}'.format(category))\r\n",
        "    # train the model using X_dtm & y\r\n",
        "    LogReg_pipeline.fit(X_train, train[category])\r\n",
        "    # compute the testing accuracy\r\n",
        "    prediction = LogReg_pipeline.predict(X_test)\r\n",
        "    print('Test accuracy is {}'.format(accuracy_score(test[category], prediction)))"
      ],
      "execution_count": null,
      "outputs": [
        {
          "output_type": "stream",
          "text": [
            "... Processing I-E\n",
            "Test accuracy is 0.6500458855919241\n",
            "... Processing N-S\n",
            "Test accuracy is 0.8308351177730193\n",
            "... Processing F-T\n",
            "Test accuracy is 0.6191495870296727\n",
            "... Processing J-P\n",
            "Test accuracy is 0.7436524931171612\n"
          ],
          "name": "stdout"
        }
      ]
    },
    {
      "cell_type": "code",
      "metadata": {
        "colab": {
          "base_uri": "https://localhost:8080/",
          "height": 1000
        },
        "id": "8j3ERFaTV_aI",
        "outputId": "b6feae92-9c2b-4a0a-c0d8-6b02545e7451"
      },
      "source": [
        "LogReg_pipeline = Pipeline([\r\n",
        "                ('tfidf', TfidfVectorizer()),\r\n",
        "                ('clf', OneVsRestClassifier(LogisticRegression(solver='sag'), n_jobs=1)),\r\n",
        "            ])\r\n",
        "total_score = 0\r\n",
        "for category in categories:\r\n",
        "    print('... Processing {}'.format(category))\r\n",
        "\r\n",
        "    LogReg_pipeline.fit(X_train, train[category])\r\n",
        "    prediction = LogReg_pipeline.predict(X_test)\r\n",
        "    score = f1_score(test[category], prediction, average='macro')\r\n",
        "    total_score += score\r\n",
        "    # print('f1_score is {}'.format(score))\r\n",
        "    # print('accuracy is {}'.format(accuracy_score(test[category], prediction)))\r\n",
        "\r\n",
        "    # print(confusion_matrix(test[category], prediction))\r\n",
        "    print(classification_report(test[category], prediction, target_names=['0', '1']))\r\n",
        "\r\n",
        "    fpr, tpr, thresholds = roc_curve(train[category], LogReg_pipeline.predict_proba(X_train)[:, 1])\r\n",
        "    plt.plot(fpr, tpr, '-', label=category)\r\n",
        "\r\n",
        "plt.plot([0, 1], [0, 1], 'k--', label=\"random guess\")\r\n",
        "plt.legend(fontsize = 8)\r\n",
        "plt.xlabel('False Positive Rate')\r\n",
        "plt.ylabel('True Positive Rate')\r\n",
        "plt.title('LogisticRegression ROC Curve')\r\n",
        "plt.show()\r\n",
        "\r\n",
        "print('Average f1-score of LogisticRegression : ', total_score/4)"
      ],
      "execution_count": null,
      "outputs": [
        {
          "output_type": "stream",
          "text": [
            "... Processing I-E\n",
            "              precision    recall  f1-score   support\n",
            "\n",
            "           0       0.67      0.92      0.77      2131\n",
            "           1       0.49      0.14      0.22      1138\n",
            "\n",
            "    accuracy                           0.65      3269\n",
            "   macro avg       0.58      0.53      0.50      3269\n",
            "weighted avg       0.61      0.65      0.58      3269\n",
            "\n",
            "... Processing N-S\n",
            "              precision    recall  f1-score   support\n",
            "\n",
            "           0       0.83      1.00      0.91      2717\n",
            "           1       0.45      0.01      0.02       552\n",
            "\n",
            "    accuracy                           0.83      3269\n",
            "   macro avg       0.64      0.50      0.46      3269\n",
            "weighted avg       0.77      0.83      0.76      3269\n",
            "\n",
            "... Processing F-T\n",
            "              precision    recall  f1-score   support\n",
            "\n",
            "           0       0.64      0.70      0.67      1773\n",
            "           1       0.59      0.53      0.56      1496\n",
            "\n",
            "    accuracy                           0.62      3269\n",
            "   macro avg       0.62      0.61      0.61      3269\n",
            "weighted avg       0.62      0.62      0.62      3269\n",
            "\n",
            "... Processing J-P\n",
            "              precision    recall  f1-score   support\n",
            "\n",
            "           0       0.66      0.05      0.10       859\n",
            "           1       0.75      0.99      0.85      2410\n",
            "\n",
            "    accuracy                           0.74      3269\n",
            "   macro avg       0.70      0.52      0.47      3269\n",
            "weighted avg       0.72      0.74      0.65      3269\n",
            "\n"
          ],
          "name": "stdout"
        },
        {
          "output_type": "display_data",
          "data": {
            "image/png": "[encoded data removed]",
            "text/plain": [
              "<Figure size 432x288 with 1 Axes>"
            ]
          },
          "metadata": {
            "tags": [],
            "needs_background": "light"
          }
        },
        {
          "output_type": "stream",
          "text": [
            "Average f1-score of LogisticRegression :  0.5108302213806717\n"
          ],
          "name": "stdout"
        }
      ]
    },
    {
      "cell_type": "code",
      "metadata": {
        "colab": {
          "base_uri": "https://localhost:8080/",
          "height": 1000
        },
        "id": "B0zI6_D0bn3i",
        "outputId": "9b116410-cfae-479d-8f62-982a270c7a26"
      },
      "source": [
        "# 18000\r\n",
        "LogReg_pipeline = Pipeline([\r\n",
        "                ('tfidf', TfidfVectorizer()),\r\n",
        "                ('clf', OneVsRestClassifier(LogisticRegression(solver='sag'), n_jobs=1)),\r\n",
        "            ])\r\n",
        "total_score = 0\r\n",
        "for category in categories:\r\n",
        "    print('... Processing {}'.format(category))\r\n",
        "\r\n",
        "    LogReg_pipeline.fit(X_train, train[category])\r\n",
        "    prediction = LogReg_pipeline.predict(X_test)\r\n",
        "    score = f1_score(test[category], prediction, average='macro')\r\n",
        "    total_score += score\r\n",
        "    # print('f1_score is {}'.format(score))\r\n",
        "    # print('accuracy is {}'.format(accuracy_score(test[category], prediction)))\r\n",
        "\r\n",
        "    # print(confusion_matrix(test[category], prediction))\r\n",
        "    print(classification_report(test[category], prediction, target_names=['0', '1']))\r\n",
        "\r\n",
        "    fpr, tpr, thresholds = roc_curve(train[category], LogReg_pipeline.predict_proba(X_train)[:, 1])\r\n",
        "    plt.plot(fpr, tpr, '-', label=category)\r\n",
        "\r\n",
        "plt.plot([0, 1], [0, 1], 'k--', label=\"random guess\")\r\n",
        "plt.legend(fontsize = 8)\r\n",
        "plt.xlabel('False Positive Rate')\r\n",
        "plt.ylabel('True Positive Rate')\r\n",
        "plt.title('LogisticRegression ROC Curve')\r\n",
        "plt.show()\r\n",
        "\r\n",
        "print('Average f1-score of LogisticRegression : ', total_score/4)"
      ],
      "execution_count": null,
      "outputs": [
        {
          "output_type": "stream",
          "text": [
            "... Processing I-E\n",
            "              precision    recall  f1-score   support\n",
            "\n",
            "           0       0.67      0.94      0.79      2350\n",
            "           1       0.54      0.14      0.22      1236\n",
            "\n",
            "    accuracy                           0.66      3586\n",
            "   macro avg       0.61      0.54      0.50      3586\n",
            "weighted avg       0.63      0.66      0.59      3586\n",
            "\n",
            "... Processing N-S\n",
            "              precision    recall  f1-score   support\n",
            "\n",
            "           0       0.81      1.00      0.89      2883\n",
            "           1       0.62      0.03      0.06       703\n",
            "\n",
            "    accuracy                           0.81      3586\n",
            "   macro avg       0.72      0.51      0.48      3586\n",
            "weighted avg       0.77      0.81      0.73      3586\n",
            "\n",
            "... Processing F-T\n",
            "              precision    recall  f1-score   support\n",
            "\n",
            "           0       0.64      0.80      0.71      2016\n",
            "           1       0.63      0.43      0.51      1570\n",
            "\n",
            "    accuracy                           0.64      3586\n",
            "   macro avg       0.64      0.62      0.61      3586\n",
            "weighted avg       0.64      0.64      0.63      3586\n",
            "\n",
            "... Processing J-P\n",
            "              precision    recall  f1-score   support\n",
            "\n",
            "           0       0.60      0.06      0.10       999\n",
            "           1       0.73      0.99      0.84      2587\n",
            "\n",
            "    accuracy                           0.73      3586\n",
            "   macro avg       0.67      0.52      0.47      3586\n",
            "weighted avg       0.69      0.73      0.63      3586\n",
            "\n"
          ],
          "name": "stdout"
        },
        {
          "output_type": "display_data",
          "data": {
            "image/png": "[encoded data removed]",
            "text/plain": [
              "<Figure size 432x288 with 1 Axes>"
            ]
          },
          "metadata": {
            "tags": [],
            "needs_background": "light"
          }
        },
        {
          "output_type": "stream",
          "text": [
            "Average f1-score of LogisticRegression :  0.5156618747467581\n"
          ],
          "name": "stdout"
        }
      ]
    },
    {
      "cell_type": "code",
      "metadata": {
        "id": "KRm-K-3lVHD7"
      },
      "source": [
        "\r\n",
        "from sklearn.linear_model import SGDClassifier, PassiveAggressiveClassifier\r\n",
        "from sklearn.multioutput import MultiOutputClassifier\r\n",
        "from sklearn.naive_bayes import GaussianNB\r\n",
        "from sklearn.ensemble import AdaBoostClassifier\r\n",
        "import xgboost as xgb"
      ],
      "execution_count": null,
      "outputs": []
    },
    {
      "cell_type": "code",
      "metadata": {
        "colab": {
          "base_uri": "https://localhost:8080/",
          "height": 1000
        },
        "id": "YbGC5IUnWEOY",
        "outputId": "ea8e00d2-2baa-453a-9534-6b43c641063a"
      },
      "source": [
        "XGB_pipeline = Pipeline([\r\n",
        "                ('tfidf', TfidfVectorizer()),\r\n",
        "                ('clf', OneVsRestClassifier(xgb.XGBClassifier(), n_jobs=1)),\r\n",
        "            ])\r\n",
        "total_score = 0\r\n",
        "for category in categories:\r\n",
        "    print('... Processing {}'.format(category))\r\n",
        "\r\n",
        "    XGB_pipeline.fit(X_train, train[category])\r\n",
        "    prediction = XGB_pipeline.predict(X_test)\r\n",
        "    score = f1_score(test[category], prediction, average='macro')\r\n",
        "    total_score += score\r\n",
        "    print('f1_score is {}'.format(score))\r\n",
        "    print('accuracy is {}'.format(accuracy_score(test[category], prediction)))\r\n",
        "\r\n",
        "    # print(confusion_matrix(test[category], prediction))\r\n",
        "    print(classification_report(test[category], prediction, target_names=['0', '1']))\r\n",
        "\r\n",
        "    fpr, tpr, thresholds = roc_curve(train[category], XGB_pipeline.predict_proba(X_train)[:, 1])\r\n",
        "    plt.plot(fpr, tpr, '-', label=category)\r\n",
        "\r\n",
        "plt.plot([0, 1], [0, 1], 'k--', label=\"random guess\")\r\n",
        "plt.legend(fontsize = 8)\r\n",
        "plt.xlabel('False Positive Rate')\r\n",
        "plt.ylabel('True Positive Rate')\r\n",
        "plt.title('LogisticRegression ROC Curve')\r\n",
        "plt.show()\r\n",
        "\r\n",
        "print('Average f1-score of XGBClassifier : ', total_score/4)"
      ],
      "execution_count": null,
      "outputs": [
        {
          "output_type": "stream",
          "text": [
            "... Processing I-E\n",
            "f1_score is 0.44844526931131334\n",
            "accuracy is 0.6619761394921995\n",
            "              precision    recall  f1-score   support\n",
            "\n",
            "           0       0.66      0.98      0.79      2131\n",
            "           1       0.67      0.06      0.11      1138\n",
            "\n",
            "    accuracy                           0.66      3269\n",
            "   macro avg       0.67      0.52      0.45      3269\n",
            "weighted avg       0.66      0.66      0.55      3269\n",
            "\n",
            "... Processing N-S\n",
            "f1_score is 0.45370989304812837\n",
            "accuracy is 0.8305292138268584\n",
            "              precision    recall  f1-score   support\n",
            "\n",
            "           0       0.83      1.00      0.91      2717\n",
            "           1       0.00      0.00      0.00       552\n",
            "\n",
            "    accuracy                           0.83      3269\n",
            "   macro avg       0.42      0.50      0.45      3269\n",
            "weighted avg       0.69      0.83      0.75      3269\n",
            "\n",
            "... Processing F-T\n",
            "f1_score is 0.5446713034827686\n",
            "accuracy is 0.5934536555521567\n",
            "              precision    recall  f1-score   support\n",
            "\n",
            "           0       0.59      0.85      0.69      1773\n",
            "           1       0.62      0.29      0.40      1496\n",
            "\n",
            "    accuracy                           0.59      3269\n",
            "   macro avg       0.60      0.57      0.54      3269\n",
            "weighted avg       0.60      0.59      0.56      3269\n",
            "\n",
            "... Processing J-P\n",
            "f1_score is 0.4483963655205022\n",
            "accuracy is 0.7402875497093913\n",
            "              precision    recall  f1-score   support\n",
            "\n",
            "           0       0.66      0.02      0.05       859\n",
            "           1       0.74      1.00      0.85      2410\n",
            "\n",
            "    accuracy                           0.74      3269\n",
            "   macro avg       0.70      0.51      0.45      3269\n",
            "weighted avg       0.72      0.74      0.64      3269\n",
            "\n"
          ],
          "name": "stdout"
        },
        {
          "output_type": "display_data",
          "data": {
            "image/png": "[encoded data removed]",
            "text/plain": [
              "<Figure size 432x288 with 1 Axes>"
            ]
          },
          "metadata": {
            "tags": [],
            "needs_background": "light"
          }
        },
        {
          "output_type": "stream",
          "text": [
            "Average f1-score of XGBClassifier :  0.4738057078406781\n"
          ],
          "name": "stdout"
        }
      ]
    },
    {
      "cell_type": "code",
      "metadata": {
        "colab": {
          "base_uri": "https://localhost:8080/",
          "height": 1000
        },
        "id": "CEfw_8AQbz24",
        "outputId": "9b1a6fe1-e3f7-4865-f05f-a3a9cacf3365"
      },
      "source": [
        "#18000\r\n",
        "XGB_pipeline = Pipeline([\r\n",
        "                ('tfidf', TfidfVectorizer()),\r\n",
        "                ('clf', OneVsRestClassifier(xgb.XGBClassifier(), n_jobs=1)),\r\n",
        "            ])\r\n",
        "total_score = 0\r\n",
        "for category in categories:\r\n",
        "    print('... Processing {}'.format(category))\r\n",
        "\r\n",
        "    XGB_pipeline.fit(X_train, train[category])\r\n",
        "    prediction = XGB_pipeline.predict(X_test)\r\n",
        "    score = f1_score(test[category], prediction, average='macro')\r\n",
        "    total_score += score\r\n",
        "    print('f1_score is {}'.format(score))\r\n",
        "    print('accuracy is {}'.format(accuracy_score(test[category], prediction)))\r\n",
        "\r\n",
        "    # print(confusion_matrix(test[category], prediction))\r\n",
        "    print(classification_report(test[category], prediction, target_names=['0', '1']))\r\n",
        "\r\n",
        "    fpr, tpr, thresholds = roc_curve(train[category], XGB_pipeline.predict_proba(X_train)[:, 1])\r\n",
        "    plt.plot(fpr, tpr, '-', label=category)\r\n",
        "\r\n",
        "plt.plot([0, 1], [0, 1], 'k--', label=\"random guess\")\r\n",
        "plt.legend(fontsize = 8)\r\n",
        "plt.xlabel('False Positive Rate')\r\n",
        "plt.ylabel('True Positive Rate')\r\n",
        "plt.title('LogisticRegression ROC Curve')\r\n",
        "plt.show()\r\n",
        "\r\n",
        "print('Average f1-score of XGBClassifier : ', total_score/4)"
      ],
      "execution_count": null,
      "outputs": [
        {
          "output_type": "stream",
          "text": [
            "... Processing I-E\n",
            "f1_score is 0.44630755071215755\n",
            "accuracy is 0.6656441717791411\n",
            "              precision    recall  f1-score   support\n",
            "\n",
            "           0       0.66      0.99      0.79      2350\n",
            "           1       0.70      0.05      0.10      1236\n",
            "\n",
            "    accuracy                           0.67      3586\n",
            "   macro avg       0.68      0.52      0.45      3586\n",
            "weighted avg       0.68      0.67      0.55      3586\n",
            "\n",
            "... Processing N-S\n",
            "f1_score is 0.4483694132125077\n",
            "accuracy is 0.803680981595092\n",
            "              precision    recall  f1-score   support\n",
            "\n",
            "           0       0.80      1.00      0.89      2883\n",
            "           1       0.40      0.00      0.01       703\n",
            "\n",
            "    accuracy                           0.80      3586\n",
            "   macro avg       0.60      0.50      0.45      3586\n",
            "weighted avg       0.72      0.80      0.72      3586\n",
            "\n",
            "... Processing F-T\n",
            "f1_score is 0.4939400604404755\n",
            "accuracy is 0.5976017847183491\n",
            "              precision    recall  f1-score   support\n",
            "\n",
            "           0       0.59      0.93      0.72      2016\n",
            "           1       0.66      0.17      0.26      1570\n",
            "\n",
            "    accuracy                           0.60      3586\n",
            "   macro avg       0.63      0.55      0.49      3586\n",
            "weighted avg       0.62      0.60      0.52      3586\n",
            "\n",
            "... Processing J-P\n",
            "f1_score is 0.4493232930636369\n",
            "accuracy is 0.7255995538204127\n",
            "              precision    recall  f1-score   support\n",
            "\n",
            "           0       0.66      0.03      0.06       999\n",
            "           1       0.73      0.99      0.84      2587\n",
            "\n",
            "    accuracy                           0.73      3586\n",
            "   macro avg       0.69      0.51      0.45      3586\n",
            "weighted avg       0.71      0.73      0.62      3586\n",
            "\n"
          ],
          "name": "stdout"
        },
        {
          "output_type": "display_data",
          "data": {
            "image/png": "[encoded data removed]",
            "text/plain": [
              "<Figure size 432x288 with 1 Axes>"
            ]
          },
          "metadata": {
            "tags": [],
            "needs_background": "light"
          }
        },
        {
          "output_type": "stream",
          "text": [
            "Average f1-score of XGBClassifier :  0.4594850793571944\n"
          ],
          "name": "stdout"
        }
      ]
    },
    {
      "cell_type": "code",
      "metadata": {
        "colab": {
          "base_uri": "https://localhost:8080/",
          "height": 1000
        },
        "id": "MaHXWcVyWG6f",
        "outputId": "f0000bf0-24ae-4997-ca3e-4142e55fda21"
      },
      "source": [
        "SGDClassifier_pipeline = Pipeline([\r\n",
        "                ('tfidf', TfidfVectorizer()),\r\n",
        "                ('clf', OneVsRestClassifier(SGDClassifier(loss='log'), n_jobs=1)),\r\n",
        "            ])\r\n",
        "total_score = 0\r\n",
        "for category in categories:\r\n",
        "    print('... Processing {}'.format(category))\r\n",
        "\r\n",
        "    SGDClassifier_pipeline.fit(X_train, train[category])\r\n",
        "    prediction = SGDClassifier_pipeline.predict(X_test)\r\n",
        "    score = f1_score(test[category], prediction, average='macro')\r\n",
        "    total_score += score\r\n",
        "    print('f1_score is {}'.format(score))\r\n",
        "    print('accuracy is {}'.format(accuracy_score(test[category], prediction)))\r\n",
        "\r\n",
        "    # print(confusion_matrix(test[category], prediction))\r\n",
        "    print(classification_report(test[category], prediction, target_names=['0', '1']))\r\n",
        "\r\n",
        "    fpr, tpr, thresholds = roc_curve(train[category], SGDClassifier_pipeline.predict_proba(X_train)[:, 1])\r\n",
        "    plt.plot(fpr, tpr, '-', label=category)\r\n",
        "\r\n",
        "plt.plot([0, 1], [0, 1], 'k--', label=\"random guess\")\r\n",
        "plt.legend(fontsize = 8)\r\n",
        "plt.xlabel('False Positive Rate')\r\n",
        "plt.ylabel('True Positive Rate')\r\n",
        "plt.title('SGDClassifier ROC Curve')\r\n",
        "plt.show()\r\n",
        "\r\n",
        "print('Average f1-score of SGDClassifier : ', total_score/4)"
      ],
      "execution_count": null,
      "outputs": [
        {
          "output_type": "stream",
          "text": [
            "... Processing I-E\n",
            "f1_score is 0.4904507926871214\n",
            "accuracy is 0.650657693484246\n",
            "              precision    recall  f1-score   support\n",
            "\n",
            "           0       0.67      0.93      0.78      2131\n",
            "           1       0.49      0.13      0.20      1138\n",
            "\n",
            "    accuracy                           0.65      3269\n",
            "   macro avg       0.58      0.53      0.49      3269\n",
            "weighted avg       0.61      0.65      0.58      3269\n",
            "\n",
            "... Processing N-S\n",
            "f1_score is 0.45549297773416175\n",
            "accuracy is 0.8305292138268584\n",
            "              precision    recall  f1-score   support\n",
            "\n",
            "           0       0.83      1.00      0.91      2717\n",
            "           1       0.25      0.00      0.00       552\n",
            "\n",
            "    accuracy                           0.83      3269\n",
            "   macro avg       0.54      0.50      0.46      3269\n",
            "weighted avg       0.73      0.83      0.75      3269\n",
            "\n",
            "... Processing F-T\n",
            "f1_score is 0.6105321448586907\n",
            "accuracy is 0.6176200672988682\n",
            "              precision    recall  f1-score   support\n",
            "\n",
            "           0       0.64      0.69      0.66      1773\n",
            "           1       0.59      0.53      0.56      1496\n",
            "\n",
            "    accuracy                           0.62      3269\n",
            "   macro avg       0.61      0.61      0.61      3269\n",
            "weighted avg       0.62      0.62      0.61      3269\n",
            "\n",
            "... Processing J-P\n",
            "f1_score is 0.45626187379291316\n",
            "accuracy is 0.7418170694401958\n",
            "              precision    recall  f1-score   support\n",
            "\n",
            "           0       0.68      0.03      0.06       859\n",
            "           1       0.74      0.99      0.85      2410\n",
            "\n",
            "    accuracy                           0.74      3269\n",
            "   macro avg       0.71      0.51      0.46      3269\n",
            "weighted avg       0.73      0.74      0.64      3269\n",
            "\n"
          ],
          "name": "stdout"
        },
        {
          "output_type": "display_data",
          "data": {
            "image/png": "[encoded data removed]",
            "text/plain": [
              "<Figure size 432x288 with 1 Axes>"
            ]
          },
          "metadata": {
            "tags": [],
            "needs_background": "light"
          }
        },
        {
          "output_type": "stream",
          "text": [
            "Average f1-score of SGDClassifier :  0.5031844472682218\n"
          ],
          "name": "stdout"
        }
      ]
    },
    {
      "cell_type": "code",
      "metadata": {
        "colab": {
          "base_uri": "https://localhost:8080/",
          "height": 1000
        },
        "id": "6MOvFGTqb26X",
        "outputId": "e21391b3-ab5f-4b0c-972a-81e49f10186f"
      },
      "source": [
        "#18000\r\n",
        "SGDClassifier_pipeline = Pipeline([\r\n",
        "                ('tfidf', TfidfVectorizer()),\r\n",
        "                ('clf', OneVsRestClassifier(SGDClassifier(loss='log'), n_jobs=1)),\r\n",
        "            ])\r\n",
        "total_score = 0\r\n",
        "for category in categories:\r\n",
        "    print('... Processing {}'.format(category))\r\n",
        "\r\n",
        "    SGDClassifier_pipeline.fit(X_train, train[category])\r\n",
        "    prediction = SGDClassifier_pipeline.predict(X_test)\r\n",
        "    score = f1_score(test[category], prediction, average='macro')\r\n",
        "    total_score += score\r\n",
        "    print('f1_score is {}'.format(score))\r\n",
        "    print('accuracy is {}'.format(accuracy_score(test[category], prediction)))\r\n",
        "\r\n",
        "    # print(confusion_matrix(test[category], prediction))\r\n",
        "    print(classification_report(test[category], prediction, target_names=['0', '1']))\r\n",
        "\r\n",
        "    fpr, tpr, thresholds = roc_curve(train[category], SGDClassifier_pipeline.predict_proba(X_train)[:, 1])\r\n",
        "    plt.plot(fpr, tpr, '-', label=category)\r\n",
        "\r\n",
        "plt.plot([0, 1], [0, 1], 'k--', label=\"random guess\")\r\n",
        "plt.legend(fontsize = 8)\r\n",
        "plt.xlabel('False Positive Rate')\r\n",
        "plt.ylabel('True Positive Rate')\r\n",
        "plt.title('SGDClassifier ROC Curve')\r\n",
        "plt.show()\r\n",
        "\r\n",
        "print('Average f1-score of SGDClassifier : ', total_score/4)"
      ],
      "execution_count": null,
      "outputs": [
        {
          "output_type": "stream",
          "text": [
            "... Processing I-E\n",
            "f1_score is 0.4799900886998784\n",
            "accuracy is 0.6639709983268266\n",
            "              precision    recall  f1-score   support\n",
            "\n",
            "           0       0.67      0.96      0.79      2350\n",
            "           1       0.57      0.10      0.17      1236\n",
            "\n",
            "    accuracy                           0.66      3586\n",
            "   macro avg       0.62      0.53      0.48      3586\n",
            "weighted avg       0.64      0.66      0.58      3586\n",
            "\n",
            "... Processing N-S\n",
            "f1_score is 0.45278378047142537\n",
            "accuracy is 0.8045175683212493\n",
            "              precision    recall  f1-score   support\n",
            "\n",
            "           0       0.80      1.00      0.89      2883\n",
            "           1       0.62      0.01      0.01       703\n",
            "\n",
            "    accuracy                           0.80      3586\n",
            "   macro avg       0.71      0.50      0.45      3586\n",
            "weighted avg       0.77      0.80      0.72      3586\n",
            "\n",
            "... Processing F-T\n",
            "f1_score is 0.6111687805529038\n",
            "accuracy is 0.6411042944785276\n",
            "              precision    recall  f1-score   support\n",
            "\n",
            "           0       0.64      0.82      0.72      2016\n",
            "           1       0.64      0.42      0.50      1570\n",
            "\n",
            "    accuracy                           0.64      3586\n",
            "   macro avg       0.64      0.62      0.61      3586\n",
            "weighted avg       0.64      0.64      0.62      3586\n",
            "\n",
            "... Processing J-P\n",
            "f1_score is 0.4524296847343202\n",
            "accuracy is 0.7267150027886224\n",
            "              precision    recall  f1-score   support\n",
            "\n",
            "           0       0.69      0.03      0.06       999\n",
            "           1       0.73      0.99      0.84      2587\n",
            "\n",
            "    accuracy                           0.73      3586\n",
            "   macro avg       0.71      0.51      0.45      3586\n",
            "weighted avg       0.72      0.73      0.62      3586\n",
            "\n"
          ],
          "name": "stdout"
        },
        {
          "output_type": "display_data",
          "data": {
            "image/png": "[encoded data removed]",
            "text/plain": [
              "<Figure size 432x288 with 1 Axes>"
            ]
          },
          "metadata": {
            "tags": [],
            "needs_background": "light"
          }
        },
        {
          "output_type": "stream",
          "text": [
            "Average f1-score of SGDClassifier :  0.499093083614632\n"
          ],
          "name": "stdout"
        }
      ]
    },
    {
      "cell_type": "markdown",
      "metadata": {
        "id": "yQ_XAJe4WNVU"
      },
      "source": [
        "# 실제 적용"
      ]
    },
    {
      "cell_type": "code",
      "metadata": {
        "id": "RQvdOgLGWZjg"
      },
      "source": [
        ""
      ],
      "execution_count": null,
      "outputs": []
    }
  ]
}